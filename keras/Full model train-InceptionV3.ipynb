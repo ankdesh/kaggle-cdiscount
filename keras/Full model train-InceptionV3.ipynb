{
 "cells": [
  {
   "cell_type": "code",
   "execution_count": 1,
   "metadata": {},
   "outputs": [
    {
     "name": "stderr",
     "output_type": "stream",
     "text": [
      "Using TensorFlow backend.\n"
     ]
    }
   ],
   "source": [
    "import pandas as pd\n",
    "import numpy as np\n",
    "import os.path\n",
    "\n",
    "from keras.preprocessing.image import Iterator\n",
    "from keras.preprocessing.image import ImageDataGenerator\n",
    "from keras import backend as K\n",
    "from keras.models import load_model\n",
    "\n",
    "import threading\n",
    "lock = threading.Lock()\n",
    "\n",
    "from BsonIterator import BSONIterator"
   ]
  },
  {
   "cell_type": "code",
   "execution_count": 2,
   "metadata": {},
   "outputs": [
    {
     "name": "stderr",
     "output_type": "stream",
     "text": [
      "/home/ankdesh/virtualenvs/cdiscount-py2.7/local/lib/python2.7/site-packages/numpy/lib/arraysetops.py:463: FutureWarning: elementwise comparison failed; returning scalar instead, but in the future will perform elementwise comparison\n",
      "  mask |= (ar1 == a)\n"
     ]
    },
    {
     "name": "stdout",
     "output_type": "stream",
     "text": [
      "Found 988516 images belonging to 5270 classes.\n",
      "Found 242274 images belonging to 5270 classes.\n"
     ]
    }
   ],
   "source": [
    "METADATA_DIR = 'metadata'\n",
    "DATA_DIR = '../../dataset'\n",
    "\n",
    "train_offsets_df = pd.read_csv(os.path.join(METADATA_DIR,\"train_offsets.csv\"), index_col=0)\n",
    "train_images_df = pd.read_csv(os.path.join(METADATA_DIR,\"RandomSplit_Train_0.9_0.2.csv\"), index_col=0)\n",
    "val_images_df = pd.read_csv(os.path.join(METADATA_DIR,\"RandomSplit_Val_0.9_0.2.csv\"), index_col=0)\n",
    "\n",
    "num_classes = 5270\n",
    "num_train_images = len(train_images_df)\n",
    "num_val_images = len(val_images_df)\n",
    "batch_size = 128\n",
    "\n",
    "# Create a generator for training and a generator for validation.\n",
    "# Tip: use ImageDataGenerator for data augmentation and preprocessing.\n",
    "assert os.path.exists(os.path.join(DATA_DIR, 'train.bson'))\n",
    "train_bson_file = open(os.path.join(DATA_DIR, 'train.bson'), \"rb\")\n",
    "train_datagen = ImageDataGenerator()\n",
    "train_gen = BSONIterator(train_bson_file, train_images_df, train_offsets_df,\n",
    "                         num_classes, train_datagen, lock,\n",
    "                         batch_size=batch_size, shuffle=True)\n",
    "\n",
    "val_datagen = ImageDataGenerator()\n",
    "val_gen = BSONIterator(train_bson_file, val_images_df, train_offsets_df,\n",
    "                       num_classes, val_datagen, lock,\n",
    "                       batch_size=batch_size, shuffle=True)"
   ]
  },
  {
   "cell_type": "code",
   "execution_count": 3,
   "metadata": {
    "scrolled": false
   },
   "outputs": [
    {
     "name": "stdout",
     "output_type": "stream",
     "text": [
      "Epoch 1/10\n",
      "7722/7722 [==============================] - ETA: 0s - loss: 4.0082 - acc: 0.3245 - val_loss: 3.5546 - val_acc: 0.3681\n",
      "Epoch 2/10\n",
      "7722/7722 [==============================] - ETA: 0s - loss: 3.0219 - acc: 0.4368 - val_loss: 3.2161 - val_acc: 0.4211\n",
      "Epoch 3/10\n",
      "7722/7722 [==============================] - ETA: 0s - loss: 2.6545 - acc: 0.4797 - val_loss: 2.9618 - val_acc: 0.4648\n",
      "Epoch 4/10\n",
      "7722/7722 [==============================] - ETA: 0s - loss: 2.4036 - acc: 0.5100 - val_loss: 2.8870 - val_acc: 0.4790\n",
      "Epoch 5/10\n",
      "7722/7722 [==============================] - ETA: 0s - loss: 2.2130 - acc: 0.5343 - val_loss: 2.8422 - val_acc: 0.4910\n",
      "Epoch 6/10\n",
      "7722/7722 [==============================] - ETA: 0s - loss: 2.0455 - acc: 0.5566 - val_loss: 2.7512 - val_acc: 0.5077\n",
      "Epoch 7/10\n",
      "7722/7722 [==============================] - ETA: 0s - loss: 1.8997 - acc: 0.5771 - val_loss: 3.3106 - val_acc: 0.4237\n",
      "Epoch 8/10\n",
      "7722/7722 [==============================] - ETA: 0s - loss: 1.7677 - acc: 0.5971 - val_loss: 2.8021 - val_acc: 0.5154\n",
      "Epoch 9/10\n",
      "7722/7722 [==============================] - ETA: 0s - loss: 1.6494 - acc: 0.6153 - val_loss: 2.8704 - val_acc: 0.5101\n",
      "Epoch 10/10\n",
      "7722/7722 [==============================] - ETA: 0s - loss: 1.5413 - acc: 0.6330 - val_loss: 2.9105 - val_acc: 0.5164\n"
     ]
    }
   ],
   "source": [
    "from keras.applications.inception_v3 import InceptionV3\n",
    "from keras.preprocessing import image\n",
    "from keras.models import Model\n",
    "from keras.layers import Dense, GlobalAveragePooling2D\n",
    "from keras import backend as K\n",
    "\n",
    "# Save model Dir\n",
    "MODEL_DIR = 'saved_models'\n",
    "\n",
    "# create the base pre-trained model\n",
    "base_model = InceptionV3(weights='imagenet', include_top=False)\n",
    "\n",
    "# add a global spatial average pooling layer\n",
    "x = base_model.output\n",
    "x = GlobalAveragePooling2D()(x)\n",
    "# let's add a fully-connected layer\n",
    "x = Dense(1024, activation='relu')(x)\n",
    "# and a logistic layer \n",
    "predictions = Dense(num_classes, activation='softmax')(x)\n",
    "\n",
    "# this is the model we will train\n",
    "model = Model(inputs=base_model.input, outputs=predictions, name= 'InceptionV3')\n",
    "\n",
    "# compile the model (should be done *after* setting layers to non-trainable)\n",
    "# model.compile(optimizer='rmsprop', loss='categorical_crossentropy')\n",
    "model.compile(optimizer=\"adam\",\n",
    "              loss=\"categorical_crossentropy\",\n",
    "              metrics=[\"accuracy\"])\n",
    "\n",
    "num_epochs = 10\n",
    "\n",
    "# train the model on the new data for a few epochs\n",
    "model.fit_generator(train_gen,\n",
    "                    steps_per_epoch = num_train_images // batch_size,\n",
    "                    epochs = num_epochs,\n",
    "                    validation_data = val_gen,\n",
    "                    validation_steps = num_val_images // batch_size,\n",
    "                    workers = 4)\n",
    "model.save(os.path.join(MODEL_DIR, model.name + '_fulltrain_epcs' + str(num_epochs) + '_RandomSplit_Train_0.9_0.2' + '.h5'))"
   ]
  },
  {
   "cell_type": "code",
   "execution_count": null,
   "metadata": {},
   "outputs": [],
   "source": []
  }
 ],
 "metadata": {
  "kernelspec": {
   "display_name": "Python 2",
   "language": "python",
   "name": "python2"
  },
  "language_info": {
   "codemirror_mode": {
    "name": "ipython",
    "version": 2
   },
   "file_extension": ".py",
   "mimetype": "text/x-python",
   "name": "python",
   "nbconvert_exporter": "python",
   "pygments_lexer": "ipython2",
   "version": "2.7.12"
  }
 },
 "nbformat": 4,
 "nbformat_minor": 2
}
