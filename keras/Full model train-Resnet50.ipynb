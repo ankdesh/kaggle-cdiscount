{
 "cells": [
  {
   "cell_type": "code",
   "execution_count": 5,
   "metadata": {},
   "outputs": [],
   "source": [
    "import pandas as pd\n",
    "import numpy as np\n",
    "import os.path\n",
    "\n",
    "from keras.preprocessing.image import Iterator\n",
    "from keras.preprocessing.image import ImageDataGenerator\n",
    "from keras import backend as K\n",
    "from keras.models import load_model\n",
    "\n",
    "import threading\n",
    "lock = threading.Lock()\n",
    "\n",
    "from keras.callbacks import ModelCheckpoint\n",
    "\n",
    "from BsonIterator import BSONIterator"
   ]
  },
  {
   "cell_type": "code",
   "execution_count": 6,
   "metadata": {},
   "outputs": [
    {
     "name": "stdout",
     "output_type": "stream",
     "text": [
      "Found 1112569 images belonging to 5270 classes.\n",
      "Found 119010 images belonging to 5270 classes.\n"
     ]
    }
   ],
   "source": [
    "METADATA_DIR = 'metadata'\n",
    "DATA_DIR = '../../dataset'\n",
    "\n",
    "train_offsets_df = pd.read_csv(os.path.join(METADATA_DIR,\"train_offsets.csv\"), index_col=0)\n",
    "train_images_df = pd.read_csv(os.path.join(METADATA_DIR,\"RandomSplit_Train_0.9_0.1.csv\"), index_col=0)\n",
    "val_images_df = pd.read_csv(os.path.join(METADATA_DIR,\"RandomSplit_Val_0.9_0.1.csv\"), index_col=0)\n",
    "\n",
    "num_classes = 5270\n",
    "num_train_images = len(train_images_df)\n",
    "num_val_images = len(val_images_df)\n",
    "batch_size = 32\n",
    "\n",
    "# Create a generator for training and a generator for validation.\n",
    "# Tip: use ImageDataGenerator for data augmentation and preprocessing.\n",
    "assert os.path.exists(os.path.join(DATA_DIR, 'train.bson'))\n",
    "train_bson_file = open(os.path.join(DATA_DIR, 'train.bson'), \"rb\")\n",
    "train_datagen = ImageDataGenerator()\n",
    "train_gen = BSONIterator(train_bson_file, train_images_df, train_offsets_df,\n",
    "                         num_classes, train_datagen, lock, target_size = (224,224),\n",
    "                         batch_size=batch_size, shuffle=True)\n",
    "\n",
    "val_datagen = ImageDataGenerator()\n",
    "val_gen = BSONIterator(train_bson_file, val_images_df, train_offsets_df,\n",
    "                       num_classes, val_datagen, lock, target_size = (224,224),\n",
    "                       batch_size=batch_size, shuffle=True)"
   ]
  },
  {
   "cell_type": "code",
   "execution_count": 7,
   "metadata": {
    "scrolled": false
   },
   "outputs": [
    {
     "name": "stdout",
     "output_type": "stream",
     "text": [
      "Epoch 1/5\n",
      "34766/34767 [============================>.] - ETA: 1s - loss: 4.9658 - acc: 0.2334Epoch 00000: saving model to saved_models/Resnet50.00-4.97-4.85_RandomSplit_Train_0.9_0.2.h5\n",
      "34767/34767 [==============================] - ETA: 0s - loss: 4.9659 - acc: 0.2334 - val_loss: 4.8503 - val_acc: 0.2331\n",
      "Epoch 2/5\n",
      "34766/34767 [============================>.] - ETA: 1s - loss: 3.9990 - acc: 0.3476Epoch 00001: saving model to saved_models/Resnet50.01-4.00-4.20_RandomSplit_Train_0.9_0.2.h5\n",
      "34767/34767 [==============================] - ETA: 0s - loss: 3.9990 - acc: 0.3476 - val_loss: 4.1987 - val_acc: 0.3163\n",
      "Epoch 3/5\n",
      "34766/34767 [============================>.] - ETA: 1s - loss: 3.6858 - acc: 0.3857Epoch 00002: saving model to saved_models/Resnet50.02-3.69-4.07_RandomSplit_Train_0.9_0.2.h5\n",
      "34767/34767 [==============================] - ETA: 0s - loss: 3.6858 - acc: 0.3857 - val_loss: 4.0679 - val_acc: 0.3288\n",
      "Epoch 4/5\n",
      "34766/34767 [============================>.] - ETA: 1s - loss: 3.4976 - acc: 0.4086Epoch 00003: saving model to saved_models/Resnet50.03-3.50-5.29_RandomSplit_Train_0.9_0.2.h5\n",
      "34767/34767 [==============================] - ETA: 0s - loss: 3.4975 - acc: 0.4086 - val_loss: 5.2937 - val_acc: 0.1908\n",
      "Epoch 5/5\n",
      "34766/34767 [============================>.] - ETA: 1s - loss: 3.3665 - acc: 0.4235Epoch 00004: saving model to saved_models/Resnet50.04-3.37-3.77_RandomSplit_Train_0.9_0.2.h5\n",
      "34767/34767 [==============================] - ETA: 0s - loss: 3.3666 - acc: 0.4235 - val_loss: 3.7671 - val_acc: 0.3725\n"
     ]
    },
    {
     "data": {
      "text/plain": [
       "<keras.callbacks.History at 0x7f727df6d610>"
      ]
     },
     "execution_count": 7,
     "metadata": {},
     "output_type": "execute_result"
    }
   ],
   "source": [
    "from keras.applications.resnet50 import ResNet50\n",
    "from keras.preprocessing import image\n",
    "from keras.models import Model\n",
    "from keras.layers import Dense, GlobalAveragePooling2D\n",
    "from keras import backend as K\n",
    "\n",
    "from keras.callbacks import ModelCheckpoint\n",
    "\n",
    "# Save model Dir\n",
    "MODEL_DIR = 'saved_models'\n",
    "\n",
    "# Checkpointer \n",
    "checkpointer = ModelCheckpoint(filepath='saved_models/Resnet50.{epoch:02d}-{loss:.2f}-{val_loss:.2f}_RandomSplit_Train_0.9_0.1.h5', verbose=1)\n",
    "\n",
    "# create the base pre-trained model\n",
    "base_model = ResNet50(weights='imagenet', include_top=False)\n",
    "\n",
    "# add a global spatial average pooling layer\n",
    "x = base_model.output\n",
    "x = GlobalAveragePooling2D()(x)\n",
    "# let's add a fully-connected layer\n",
    "x = Dense(1024, activation='relu')(x)\n",
    "# and a logistic layer \n",
    "predictions = Dense(num_classes, activation='softmax')(x)\n",
    "\n",
    "# this is the model we will train\n",
    "model = Model(inputs=base_model.input, outputs=predictions, name= 'Resenet50')\n",
    "\n",
    "# compile the model (should be done *after* setting layers to non-trainable)\n",
    "# model.compile(optimizer='rmsprop', loss='categorical_crossentropy')\n",
    "model.compile(optimizer=\"adam\",\n",
    "              loss=\"categorical_crossentropy\",\n",
    "              metrics=[\"accuracy\"])\n",
    "\n",
    "num_epochs = 5\n",
    "\n",
    "\n",
    "# train the model on the new data for a few epochs\n",
    "model.fit_generator(train_gen,\n",
    "                    steps_per_epoch = num_train_images // batch_size,\n",
    "                    epochs = num_epochs,\n",
    "                    validation_data = val_gen,\n",
    "                    validation_steps = num_val_images // batch_size,\n",
    "                    workers = 4, callbacks=[checkpointer])\n"
   ]
  },
  {
   "cell_type": "code",
   "execution_count": 8,
   "metadata": {},
   "outputs": [
    {
     "name": "stdout",
     "output_type": "stream",
     "text": [
      "Epoch 1/2\n",
      "34766/34767 [============================>.] - ETA: 1s - loss: 3.2651 - acc: 0.4350Epoch 00000: saving model to saved_models/Resnet50.00-3.27-4.22_RandomSplit_Train_0.9_0.2.h5\n",
      "34767/34767 [==============================] - ETA: 0s - loss: 3.2651 - acc: 0.4350 - val_loss: 4.2240 - val_acc: 0.3103\n",
      "Epoch 2/2\n",
      "34766/34767 [============================>.] - ETA: 1s - loss: 3.1835 - acc: 0.4438Epoch 00001: saving model to saved_models/Resnet50.01-3.18-3.80_RandomSplit_Train_0.9_0.2.h5\n",
      "34767/34767 [==============================] - ETA: 0s - loss: 3.1835 - acc: 0.4438 - val_loss: 3.7979 - val_acc: 0.3880\n"
     ]
    },
    {
     "data": {
      "text/plain": [
       "<keras.callbacks.History at 0x7f73182aa850>"
      ]
     },
     "execution_count": 8,
     "metadata": {},
     "output_type": "execute_result"
    }
   ],
   "source": [
    "num_epochs = 2\n",
    "\n",
    "\n",
    "# train the model on the new data for a few epochs\n",
    "model.fit_generator(train_gen,\n",
    "                    steps_per_epoch = num_train_images // batch_size,\n",
    "                    epochs = num_epochs,\n",
    "                    validation_data = val_gen,\n",
    "                    validation_steps = num_val_images // batch_size,\n",
    "                    workers = 4, callbacks=[checkpointer])"
   ]
  },
  {
   "cell_type": "code",
   "execution_count": null,
   "metadata": {},
   "outputs": [],
   "source": []
  }
 ],
 "metadata": {
  "kernelspec": {
   "display_name": "Python 2",
   "language": "python",
   "name": "python2"
  },
  "language_info": {
   "codemirror_mode": {
    "name": "ipython",
    "version": 2
   },
   "file_extension": ".py",
   "mimetype": "text/x-python",
   "name": "python",
   "nbconvert_exporter": "python",
   "pygments_lexer": "ipython2",
   "version": "2.7.12"
  }
 },
 "nbformat": 4,
 "nbformat_minor": 2
}
