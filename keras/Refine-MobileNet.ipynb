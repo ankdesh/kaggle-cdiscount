{
 "cells": [
  {
   "cell_type": "code",
   "execution_count": 1,
   "metadata": {},
   "outputs": [
    {
     "name": "stderr",
     "output_type": "stream",
     "text": [
      "Using TensorFlow backend.\n"
     ]
    }
   ],
   "source": [
    "import pandas as pd\n",
    "import numpy as np\n",
    "import os.path\n",
    "\n",
    "from keras.preprocessing.image import Iterator\n",
    "from keras.preprocessing.image import ImageDataGenerator\n",
    "from keras import backend as K\n",
    "from keras.models import load_model\n",
    "\n",
    "import threading\n",
    "lock = threading.Lock()\n",
    "\n",
    "from keras.callbacks import ModelCheckpoint\n",
    "\n",
    "from BsonIterator import BSONIterator"
   ]
  },
  {
   "cell_type": "code",
   "execution_count": 2,
   "metadata": {},
   "outputs": [
    {
     "name": "stderr",
     "output_type": "stream",
     "text": [
      "/home/ankdesh/virtualenvs/cdiscount-py2.7/local/lib/python2.7/site-packages/numpy/lib/arraysetops.py:463: FutureWarning: elementwise comparison failed; returning scalar instead, but in the future will perform elementwise comparison\n",
      "  mask |= (ar1 == a)\n"
     ]
    },
    {
     "name": "stdout",
     "output_type": "stream",
     "text": [
      "Found 5570369 images belonging to 5270 classes.\n",
      "Found 614245 images belonging to 5270 classes.\n"
     ]
    }
   ],
   "source": [
    "METADATA_DIR = 'metadata'\n",
    "DATA_DIR = '../../dataset'\n",
    "\n",
    "train_offsets_df = pd.read_csv(os.path.join(METADATA_DIR,\"train_offsets.csv\"), index_col=0)\n",
    "train_images_df = pd.read_csv(os.path.join(METADATA_DIR,\"RandomSplit_Train_0.5_0.1.csv\"), index_col=0)\n",
    "val_images_df = pd.read_csv(os.path.join(METADATA_DIR,\"RandomSplit_Val_0.5_0.1.csv\"), index_col=0)\n",
    "\n",
    "num_classes = 5270\n",
    "num_train_images = len(train_images_df)\n",
    "num_val_images = len(val_images_df)\n",
    "batch_size = 64\n",
    "\n",
    "# Create a generator for training and a generator for validation.\n",
    "# Tip: use ImageDataGenerator for data augmentation and preprocessing.\n",
    "assert os.path.exists(os.path.join(DATA_DIR, 'train.bson'))\n",
    "train_bson_file = open(os.path.join(DATA_DIR, 'train.bson'), \"rb\")\n",
    "train_datagen = ImageDataGenerator()\n",
    "train_gen = BSONIterator(train_bson_file, train_images_df, train_offsets_df,\n",
    "                         num_classes, train_datagen, lock, target_size = (224,224),\n",
    "                         batch_size=batch_size, shuffle=True)\n",
    "\n",
    "val_datagen = ImageDataGenerator()\n",
    "val_gen = BSONIterator(train_bson_file, val_images_df, train_offsets_df,\n",
    "                       num_classes, val_datagen, lock, target_size = (224,224),\n",
    "                       batch_size=batch_size, shuffle=True)"
   ]
  },
  {
   "cell_type": "code",
   "execution_count": 14,
   "metadata": {
    "scrolled": false
   },
   "outputs": [],
   "source": [
    "from keras.applications.mobilenet import MobileNet\n",
    "from keras.preprocessing import image\n",
    "from keras.models import Model,load_model\n",
    "from keras.layers import Dense, GlobalAveragePooling2D\n",
    "from keras import backend as K\n",
    "from keras.applications import mobilenet\n",
    "from keras.optimizers import Adam\n",
    "\n",
    "from keras.callbacks import ModelCheckpoint\n",
    "\n",
    "# Save model Dir\n",
    "MODEL_DIR = 'saved_models'\n",
    "\n",
    "# Checkpointer \n",
    "checkpointer = ModelCheckpoint(filepath=MODEL_DIR+'/Mobilenet_finetune.{epoch:02d}-{acc:.2f}-{val_acc:.2f}_RandomSplit_Train_0.5_0.1.h5', verbose=1)\n",
    "\n",
    "# create the base pre-trained model\n",
    "base_model = load_model(MODEL_DIR+'/Mobilenet.Epochs10_Acc0.58_Val0.52_RandomSplit_Train_0.9_0.1.h5', \\\n",
    "                  custom_objects={'relu6': mobilenet.relu6,'DepthwiseConv2D': mobilenet.DepthwiseConv2D})\n",
    "\n",
    "model = Model(inputs=base_model.input, outputs=base_model.get_layer(u'conv_pw_13_relu').output).output\n",
    "model = GlobalAveragePooling2D()(model)\n",
    "model = Dense(1024, activation='relu')(model)\n",
    "model = Dense(1024, activation='relu')(model)\n",
    "model = Dense(5270, activation='softmax')(model)\n",
    "model = Model(inputs=base_model.input, outputs=model)"
   ]
  },
  {
   "cell_type": "code",
   "execution_count": 23,
   "metadata": {},
   "outputs": [],
   "source": [
    "for layer in model.layers[:46]:\n",
    "    layer.trainable = False\n",
    "for layer in model.layers[46:]:\n",
    "    layer.trainable = True"
   ]
  },
  {
   "cell_type": "code",
   "execution_count": 24,
   "metadata": {},
   "outputs": [],
   "source": [
    "# compile the model (should be done *after* setting layers to non-trainable)\n",
    "# model.compile(optimizer='rmsprop', loss='categorical_crossentropy')\n",
    "opt = Adam(lr=0.001)\n",
    "model.compile(optimizer=opt,\n",
    "              loss=\"categorical_crossentropy\",\n",
    "              metrics=[\"accuracy\"])"
   ]
  },
  {
   "cell_type": "code",
   "execution_count": null,
   "metadata": {},
   "outputs": [
    {
     "name": "stdout",
     "output_type": "stream",
     "text": [
      "Epoch 1/5\n",
      "87036/87037 [============================>.] - ETA: 0s - loss: 3.2048 - acc: 0.4438Epoch 00000: saving model to saved_models/Mobilenet_finetune.00-0.44-0.47_RandomSplit_Train_0.5_0.1.h5\n",
      "87037/87037 [==============================] - ETA: 0s - loss: 3.2048 - acc: 0.4438 - val_loss: 3.0002 - val_acc: 0.4674\n",
      "Epoch 2/5\n",
      "87036/87037 [============================>.] - ETA: 0s - loss: 2.9848 - acc: 0.4691Epoch 00001: saving model to saved_models/Mobilenet_finetune.01-0.47-0.48_RandomSplit_Train_0.5_0.1.h5\n",
      "87037/87037 [==============================] - ETA: 0s - loss: 2.9848 - acc: 0.4691 - val_loss: 2.8739 - val_acc: 0.4832\n",
      "Epoch 3/5\n",
      "70588/87037 [=======================>......] - ETA: 3589s - loss: 2.8771 - acc: 0.4817"
     ]
    }
   ],
   "source": [
    "num_epochs = 5\n",
    "\n",
    "\n",
    "# train the model on the new data for a few epochs\n",
    "model.fit_generator(train_gen,\n",
    "                    steps_per_epoch = num_train_images // batch_size,\n",
    "                    epochs = num_epochs,\n",
    "                    validation_data = val_gen,\n",
    "                    validation_steps = num_val_images // batch_size,\n",
    "                    workers = 4, callbacks=[checkpointer])"
   ]
  },
  {
   "cell_type": "code",
   "execution_count": 11,
   "metadata": {},
   "outputs": [
    {
     "name": "stdout",
     "output_type": "stream",
     "text": [
      "(0, u'input_2')\n",
      "(1, u'conv1')\n",
      "(2, u'conv1_bn')\n",
      "(3, u'conv1_relu')\n",
      "(4, u'conv_dw_1')\n",
      "(5, u'conv_dw_1_bn')\n",
      "(6, u'conv_dw_1_relu')\n",
      "(7, u'conv_pw_1')\n",
      "(8, u'conv_pw_1_bn')\n",
      "(9, u'conv_pw_1_relu')\n",
      "(10, u'conv_dw_2')\n",
      "(11, u'conv_dw_2_bn')\n",
      "(12, u'conv_dw_2_relu')\n",
      "(13, u'conv_pw_2')\n",
      "(14, u'conv_pw_2_bn')\n",
      "(15, u'conv_pw_2_relu')\n",
      "(16, u'conv_dw_3')\n",
      "(17, u'conv_dw_3_bn')\n",
      "(18, u'conv_dw_3_relu')\n",
      "(19, u'conv_pw_3')\n",
      "(20, u'conv_pw_3_bn')\n",
      "(21, u'conv_pw_3_relu')\n",
      "(22, u'conv_dw_4')\n",
      "(23, u'conv_dw_4_bn')\n",
      "(24, u'conv_dw_4_relu')\n",
      "(25, u'conv_pw_4')\n",
      "(26, u'conv_pw_4_bn')\n",
      "(27, u'conv_pw_4_relu')\n",
      "(28, u'conv_dw_5')\n",
      "(29, u'conv_dw_5_bn')\n",
      "(30, u'conv_dw_5_relu')\n",
      "(31, u'conv_pw_5')\n",
      "(32, u'conv_pw_5_bn')\n",
      "(33, u'conv_pw_5_relu')\n",
      "(34, u'conv_dw_6')\n",
      "(35, u'conv_dw_6_bn')\n",
      "(36, u'conv_dw_6_relu')\n",
      "(37, u'conv_pw_6')\n",
      "(38, u'conv_pw_6_bn')\n",
      "(39, u'conv_pw_6_relu')\n",
      "(40, u'conv_dw_7')\n",
      "(41, u'conv_dw_7_bn')\n",
      "(42, u'conv_dw_7_relu')\n",
      "(43, u'conv_pw_7')\n",
      "(44, u'conv_pw_7_bn')\n",
      "(45, u'conv_pw_7_relu')\n",
      "(46, u'conv_dw_8')\n",
      "(47, u'conv_dw_8_bn')\n",
      "(48, u'conv_dw_8_relu')\n",
      "(49, u'conv_pw_8')\n",
      "(50, u'conv_pw_8_bn')\n",
      "(51, u'conv_pw_8_relu')\n",
      "(52, u'conv_dw_9')\n",
      "(53, u'conv_dw_9_bn')\n",
      "(54, u'conv_dw_9_relu')\n",
      "(55, u'conv_pw_9')\n",
      "(56, u'conv_pw_9_bn')\n",
      "(57, u'conv_pw_9_relu')\n",
      "(58, u'conv_dw_10')\n",
      "(59, u'conv_dw_10_bn')\n",
      "(60, u'conv_dw_10_relu')\n",
      "(61, u'conv_pw_10')\n",
      "(62, u'conv_pw_10_bn')\n",
      "(63, u'conv_pw_10_relu')\n",
      "(64, u'conv_dw_11')\n",
      "(65, u'conv_dw_11_bn')\n",
      "(66, u'conv_dw_11_relu')\n",
      "(67, u'conv_pw_11')\n",
      "(68, u'conv_pw_11_bn')\n",
      "(69, u'conv_pw_11_relu')\n",
      "(70, u'conv_dw_12')\n",
      "(71, u'conv_dw_12_bn')\n",
      "(72, u'conv_dw_12_relu')\n",
      "(73, u'conv_pw_12')\n",
      "(74, u'conv_pw_12_bn')\n",
      "(75, u'conv_pw_12_relu')\n",
      "(76, u'conv_dw_13')\n",
      "(77, u'conv_dw_13_bn')\n",
      "(78, u'conv_dw_13_relu')\n",
      "(79, u'conv_pw_13')\n",
      "(80, u'conv_pw_13_bn')\n",
      "(81, u'conv_pw_13_relu')\n",
      "(82, 'global_average_pooling2d_4')\n",
      "(83, 'dense_5')\n",
      "(84, 'dense_6')\n",
      "(85, 'dense_7')\n"
     ]
    }
   ],
   "source": [
    "for i,layer in enumerate(model.layers):\n",
    "    print (i,layer.name)"
   ]
  },
  {
   "cell_type": "code",
   "execution_count": 19,
   "metadata": {},
   "outputs": [],
   "source": [
    "model.save('saved_models/Mobilenet_finetune.2denselayer.01-0.44-0.45_RandomSplit_Train_0.5_0.1.h5')"
   ]
  },
  {
   "cell_type": "code",
   "execution_count": null,
   "metadata": {},
   "outputs": [],
   "source": []
  }
 ],
 "metadata": {
  "kernelspec": {
   "display_name": "Python 2",
   "language": "python",
   "name": "python2"
  },
  "language_info": {
   "codemirror_mode": {
    "name": "ipython",
    "version": 2
   },
   "file_extension": ".py",
   "mimetype": "text/x-python",
   "name": "python",
   "nbconvert_exporter": "python",
   "pygments_lexer": "ipython2",
   "version": "2.7.12"
  }
 },
 "nbformat": 4,
 "nbformat_minor": 2
}
