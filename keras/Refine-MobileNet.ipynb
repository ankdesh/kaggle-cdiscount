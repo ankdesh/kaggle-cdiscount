{
 "cells": [
  {
   "cell_type": "code",
   "execution_count": 19,
   "metadata": {},
   "outputs": [],
   "source": [
    "import pandas as pd\n",
    "import numpy as np\n",
    "import os.path\n",
    "\n",
    "from keras.preprocessing.image import Iterator\n",
    "from keras.preprocessing.image import ImageDataGenerator\n",
    "from keras import backend as K\n",
    "from keras.models import load_model\n",
    "\n",
    "import threading\n",
    "lock = threading.Lock()\n",
    "\n",
    "from keras.callbacks import ModelCheckpoint\n",
    "\n",
    "from BsonIterator import BSONIterator"
   ]
  },
  {
   "cell_type": "code",
   "execution_count": 20,
   "metadata": {},
   "outputs": [
    {
     "name": "stdout",
     "output_type": "stream",
     "text": [
      "Found 5570369 images belonging to 5270 classes.\n",
      "Found 614245 images belonging to 5270 classes.\n"
     ]
    }
   ],
   "source": [
    "METADATA_DIR = 'metadata'\n",
    "DATA_DIR = '../../dataset'\n",
    "\n",
    "train_offsets_df = pd.read_csv(os.path.join(METADATA_DIR,\"train_offsets.csv\"), index_col=0)\n",
    "train_images_df = pd.read_csv(os.path.join(METADATA_DIR,\"RandomSplit_Train_0.5_0.1.csv\"), index_col=0)\n",
    "val_images_df = pd.read_csv(os.path.join(METADATA_DIR,\"RandomSplit_Val_0.5_0.1.csv\"), index_col=0)\n",
    "\n",
    "num_classes = 5270\n",
    "num_train_images = len(train_images_df)\n",
    "num_val_images = len(val_images_df)\n",
    "batch_size = 64\n",
    "\n",
    "# Create a generator for training and a generator for validation.\n",
    "# Tip: use ImageDataGenerator for data augmentation and preprocessing.\n",
    "assert os.path.exists(os.path.join(DATA_DIR, 'train.bson'))\n",
    "train_bson_file = open(os.path.join(DATA_DIR, 'train.bson'), \"rb\")\n",
    "train_datagen = ImageDataGenerator()\n",
    "train_gen = BSONIterator(train_bson_file, train_images_df, train_offsets_df,\n",
    "                         num_classes, train_datagen, lock, target_size = (224,224),\n",
    "                         batch_size=batch_size, shuffle=True)\n",
    "\n",
    "val_datagen = ImageDataGenerator()\n",
    "val_gen = BSONIterator(train_bson_file, val_images_df, train_offsets_df,\n",
    "                       num_classes, val_datagen, lock, target_size = (224,224),\n",
    "                       batch_size=batch_size, shuffle=True)"
   ]
  },
  {
   "cell_type": "code",
   "execution_count": 21,
   "metadata": {
    "scrolled": false
   },
   "outputs": [],
   "source": [
    "from keras.applications.mobilenet import MobileNet\n",
    "from keras.preprocessing import image\n",
    "from keras.models import Model,load_model\n",
    "from keras.layers import Dense, GlobalAveragePooling2D\n",
    "from keras import backend as K\n",
    "from keras.applications import mobilenet\n",
    "\n",
    "from keras.callbacks import ModelCheckpoint\n",
    "\n",
    "# Save model Dir\n",
    "MODEL_DIR = 'saved_models'\n",
    "\n",
    "# Checkpointer \n",
    "checkpointer = ModelCheckpoint(filepath=MODEL_DIR+'/Mobilenet_finetune.{epoch:02d}-{acc:.2f}-{val_acc:.2f}_RandomSplit_Train_0.5_0.1.h5', verbose=1)\n",
    "\n",
    "# create the base pre-trained model\n",
    "model = load_model(MODEL_DIR+'/Mobilenet.Epochs10_Acc0.58_Val0.52_RandomSplit_Train_0.9_0.1.h5', \\\n",
    "                  custom_objects={'relu6': mobilenet.relu6,'DepthwiseConv2D': mobilenet.DepthwiseConv2D})\n",
    "\n",
    "for layer in model.layers[:64]:\n",
    "   layer.trainable = False\n",
    "for layer in model.layers[64:]:\n",
    "   layer.trainable = True\n"
   ]
  },
  {
   "cell_type": "code",
   "execution_count": null,
   "metadata": {},
   "outputs": [],
   "source": [
    "# compile the model (should be done *after* setting layers to non-trainable)\n",
    "# model.compile(optimizer='rmsprop', loss='categorical_crossentropy')\n",
    "model.compile(optimizer=\"adam\",\n",
    "              loss=\"categorical_crossentropy\",\n",
    "              metrics=[\"accuracy\"])"
   ]
  },
  {
   "cell_type": "code",
   "execution_count": null,
   "metadata": {},
   "outputs": [
    {
     "name": "stdout",
     "output_type": "stream",
     "text": [
      "Epoch 1/5\n",
      "87036/87037 [============================>.] - ETA: 0s - loss: 2.6858 - acc: 0.5169Epoch 00000: saving model to saved_models/Mobilenet_finetune.00-0.52-0.53_RandomSplit_Train_0.5_0.1.h5\n",
      "87037/87037 [==============================] - ETA: 0s - loss: 2.6858 - acc: 0.5169 - val_loss: 2.5510 - val_acc: 0.5308\n",
      "Epoch 2/5\n",
      " 7508/87037 [=>............................] - ETA: 14226s - loss: 2.5190 - acc: 0.5316"
     ]
    }
   ],
   "source": [
    "num_epochs = 5\n",
    "\n",
    "\n",
    "# train the model on the new data for a few epochs\n",
    "model.fit_generator(train_gen,\n",
    "                    steps_per_epoch = num_train_images // batch_size,\n",
    "                    epochs = num_epochs,\n",
    "                    validation_data = val_gen,\n",
    "                    validation_steps = num_val_images // batch_size,\n",
    "                    workers = 4, callbacks=[checkpointer])"
   ]
  },
  {
   "cell_type": "code",
   "execution_count": null,
   "metadata": {},
   "outputs": [],
   "source": []
  }
 ],
 "metadata": {
  "kernelspec": {
   "display_name": "Python 2",
   "language": "python",
   "name": "python2"
  },
  "language_info": {
   "codemirror_mode": {
    "name": "ipython",
    "version": 2
   },
   "file_extension": ".py",
   "mimetype": "text/x-python",
   "name": "python",
   "nbconvert_exporter": "python",
   "pygments_lexer": "ipython2",
   "version": "2.7.12"
  }
 },
 "nbformat": 4,
 "nbformat_minor": 2
}
